{
 "cells": [
  {
   "cell_type": "code",
   "execution_count": 1,
   "metadata": {
    "collapsed": false
   },
   "outputs": [],
   "source": [
    "import pandas as pd\n",
    "import numpy as np"
   ]
  },
  {
   "cell_type": "code",
   "execution_count": 2,
   "metadata": {
    "collapsed": false
   },
   "outputs": [
    {
     "data": {
      "text/plain": [
       "(46617, 63)"
      ]
     },
     "execution_count": 2,
     "metadata": {},
     "output_type": "execute_result"
    }
   ],
   "source": [
    "tweets = pd.read_csv(\"./tweets_all.csv\")\n",
    "tweets.shape"
   ]
  },
  {
   "cell_type": "code",
   "execution_count": 3,
   "metadata": {
    "collapsed": false
   },
   "outputs": [
    {
     "data": {
      "text/plain": [
       "Index([u'created_at', u'text', u'lat', u'lon', u'source', u'block.x',\n",
       "       u'CensusTract', u'energy', u'sugar', u'fat', u'chol', u'fiber',\n",
       "       u'protein', u'Tract.Minority...x', u'Non.Hisp.White.Population',\n",
       "       u'Median.House.Age..Years.', u'Owner.Occupied.Units.x',\n",
       "       u'Distressed.or.Under..served.Tract', u'Tract.Population.x',\n",
       "       u'X..of.House..holds', u'X2016.Est..Tract.Median.Family.Income.x',\n",
       "       u'X..Below.Poverty.Line', u'Number.of.Families', u'HUNVFlag',\n",
       "       u'lahunvhalfshare', u'lakids1share', u'lakids10share',\n",
       "       u'laseniors1share', u'laseniors10share', u'lalowi1share',\n",
       "       u'lalowi10share', u'PCTGQTRS', u'Urban', u'LILATracts_halfAnd10',\n",
       "       u'LILATracts_1And10', u'LILATracts_1And20', u'LILATracts_Vehicle',\n",
       "       u'block.y', u'X0', u'X1', u'X2', u'X3', u'X4', u'X5', u'X6', u'X7',\n",
       "       u'X8', u'X9', u'X10', u'X11', u'X12', u'X13', u'X14', u'X15', u'X16',\n",
       "       u'X17', u'X18', u'X19', u'X20', u'X21', u'X22', u'X23', u'X24'],\n",
       "      dtype='object')"
      ]
     },
     "execution_count": 3,
     "metadata": {},
     "output_type": "execute_result"
    }
   ],
   "source": [
    "tweets.columns"
   ]
  },
  {
   "cell_type": "code",
   "execution_count": 4,
   "metadata": {
    "collapsed": false
   },
   "outputs": [
    {
     "data": {
      "text/html": [
       "<div>\n",
       "<table border=\"1\" class=\"dataframe\">\n",
       "  <thead>\n",
       "    <tr style=\"text-align: right;\">\n",
       "      <th></th>\n",
       "      <th>energy</th>\n",
       "      <th>sugar</th>\n",
       "      <th>fat</th>\n",
       "      <th>chol</th>\n",
       "      <th>fiber</th>\n",
       "      <th>protein</th>\n",
       "      <th>Tract.Minority...x</th>\n",
       "      <th>Non.Hisp.White.Population</th>\n",
       "      <th>Median.House.Age..Years.</th>\n",
       "      <th>Owner.Occupied.Units.x</th>\n",
       "      <th>...</th>\n",
       "      <th>X15</th>\n",
       "      <th>X16</th>\n",
       "      <th>X17</th>\n",
       "      <th>X18</th>\n",
       "      <th>X19</th>\n",
       "      <th>X20</th>\n",
       "      <th>X21</th>\n",
       "      <th>X22</th>\n",
       "      <th>X23</th>\n",
       "      <th>X24</th>\n",
       "    </tr>\n",
       "  </thead>\n",
       "  <tbody>\n",
       "    <tr>\n",
       "      <th>count</th>\n",
       "      <td>46617.000000</td>\n",
       "      <td>46617.000000</td>\n",
       "      <td>46617.000000</td>\n",
       "      <td>46617.000000</td>\n",
       "      <td>46617.000000</td>\n",
       "      <td>46617.000000</td>\n",
       "      <td>46617.000000</td>\n",
       "      <td>46617.000000</td>\n",
       "      <td>46617.000000</td>\n",
       "      <td>46617.000000</td>\n",
       "      <td>...</td>\n",
       "      <td>46617.000000</td>\n",
       "      <td>46617.000000</td>\n",
       "      <td>46617.000000</td>\n",
       "      <td>46617.000000</td>\n",
       "      <td>46617.000000</td>\n",
       "      <td>46617.000000</td>\n",
       "      <td>46617.000000</td>\n",
       "      <td>46617.000000</td>\n",
       "      <td>46617.000000</td>\n",
       "      <td>46617.000000</td>\n",
       "    </tr>\n",
       "    <tr>\n",
       "      <th>mean</th>\n",
       "      <td>241.143371</td>\n",
       "      <td>9.248111</td>\n",
       "      <td>11.557854</td>\n",
       "      <td>33.609885</td>\n",
       "      <td>2.591250</td>\n",
       "      <td>9.047721</td>\n",
       "      <td>37.575799</td>\n",
       "      <td>2766.694253</td>\n",
       "      <td>40.254328</td>\n",
       "      <td>912.974602</td>\n",
       "      <td>...</td>\n",
       "      <td>0.030470</td>\n",
       "      <td>0.035006</td>\n",
       "      <td>0.031413</td>\n",
       "      <td>0.034773</td>\n",
       "      <td>0.025284</td>\n",
       "      <td>0.033810</td>\n",
       "      <td>0.037713</td>\n",
       "      <td>0.044519</td>\n",
       "      <td>0.029614</td>\n",
       "      <td>0.022739</td>\n",
       "    </tr>\n",
       "    <tr>\n",
       "      <th>std</th>\n",
       "      <td>160.545081</td>\n",
       "      <td>17.197685</td>\n",
       "      <td>16.542250</td>\n",
       "      <td>68.505255</td>\n",
       "      <td>4.731361</td>\n",
       "      <td>6.958441</td>\n",
       "      <td>24.898264</td>\n",
       "      <td>1912.716056</td>\n",
       "      <td>20.742201</td>\n",
       "      <td>701.720554</td>\n",
       "      <td>...</td>\n",
       "      <td>0.080043</td>\n",
       "      <td>0.088264</td>\n",
       "      <td>0.087045</td>\n",
       "      <td>0.093017</td>\n",
       "      <td>0.081738</td>\n",
       "      <td>0.092399</td>\n",
       "      <td>0.095307</td>\n",
       "      <td>0.113268</td>\n",
       "      <td>0.079520</td>\n",
       "      <td>0.072156</td>\n",
       "    </tr>\n",
       "    <tr>\n",
       "      <th>min</th>\n",
       "      <td>0.000000</td>\n",
       "      <td>0.000000</td>\n",
       "      <td>0.000000</td>\n",
       "      <td>0.000000</td>\n",
       "      <td>0.000000</td>\n",
       "      <td>0.000000</td>\n",
       "      <td>0.000000</td>\n",
       "      <td>0.000000</td>\n",
       "      <td>0.000000</td>\n",
       "      <td>0.000000</td>\n",
       "      <td>...</td>\n",
       "      <td>0.000000</td>\n",
       "      <td>0.000000</td>\n",
       "      <td>0.000000</td>\n",
       "      <td>0.000000</td>\n",
       "      <td>0.000000</td>\n",
       "      <td>0.000000</td>\n",
       "      <td>0.000000</td>\n",
       "      <td>0.000000</td>\n",
       "      <td>0.000000</td>\n",
       "      <td>0.000000</td>\n",
       "    </tr>\n",
       "    <tr>\n",
       "      <th>25%</th>\n",
       "      <td>143.250000</td>\n",
       "      <td>0.401000</td>\n",
       "      <td>2.597032</td>\n",
       "      <td>1.188356</td>\n",
       "      <td>0.033735</td>\n",
       "      <td>3.960000</td>\n",
       "      <td>17.980000</td>\n",
       "      <td>1387.000000</td>\n",
       "      <td>24.000000</td>\n",
       "      <td>369.000000</td>\n",
       "      <td>...</td>\n",
       "      <td>0.000000</td>\n",
       "      <td>0.000000</td>\n",
       "      <td>0.000000</td>\n",
       "      <td>0.000000</td>\n",
       "      <td>0.000000</td>\n",
       "      <td>0.000000</td>\n",
       "      <td>0.000000</td>\n",
       "      <td>0.000000</td>\n",
       "      <td>0.000000</td>\n",
       "      <td>0.000000</td>\n",
       "    </tr>\n",
       "    <tr>\n",
       "      <th>50%</th>\n",
       "      <td>218.149746</td>\n",
       "      <td>2.911517</td>\n",
       "      <td>6.662692</td>\n",
       "      <td>13.487179</td>\n",
       "      <td>1.455128</td>\n",
       "      <td>7.968000</td>\n",
       "      <td>31.550000</td>\n",
       "      <td>2494.000000</td>\n",
       "      <td>39.000000</td>\n",
       "      <td>816.000000</td>\n",
       "      <td>...</td>\n",
       "      <td>0.000000</td>\n",
       "      <td>0.000000</td>\n",
       "      <td>0.000000</td>\n",
       "      <td>0.000000</td>\n",
       "      <td>0.000000</td>\n",
       "      <td>0.000000</td>\n",
       "      <td>0.000000</td>\n",
       "      <td>0.000000</td>\n",
       "      <td>0.000000</td>\n",
       "      <td>0.000000</td>\n",
       "    </tr>\n",
       "    <tr>\n",
       "      <th>75%</th>\n",
       "      <td>294.811036</td>\n",
       "      <td>7.879937</td>\n",
       "      <td>13.353506</td>\n",
       "      <td>41.000000</td>\n",
       "      <td>2.927273</td>\n",
       "      <td>12.233752</td>\n",
       "      <td>53.230000</td>\n",
       "      <td>3787.000000</td>\n",
       "      <td>57.000000</td>\n",
       "      <td>1302.000000</td>\n",
       "      <td>...</td>\n",
       "      <td>0.000000</td>\n",
       "      <td>0.000000</td>\n",
       "      <td>0.000000</td>\n",
       "      <td>0.000000</td>\n",
       "      <td>0.000000</td>\n",
       "      <td>0.000000</td>\n",
       "      <td>0.000000</td>\n",
       "      <td>0.000000</td>\n",
       "      <td>0.000000</td>\n",
       "      <td>0.000000</td>\n",
       "    </tr>\n",
       "    <tr>\n",
       "      <th>max</th>\n",
       "      <td>902.000000</td>\n",
       "      <td>99.190000</td>\n",
       "      <td>100.000000</td>\n",
       "      <td>649.480000</td>\n",
       "      <td>53.100000</td>\n",
       "      <td>39.660000</td>\n",
       "      <td>100.000000</td>\n",
       "      <td>28555.000000</td>\n",
       "      <td>71.000000</td>\n",
       "      <td>8526.000000</td>\n",
       "      <td>...</td>\n",
       "      <td>0.893333</td>\n",
       "      <td>0.904000</td>\n",
       "      <td>0.912727</td>\n",
       "      <td>0.893333</td>\n",
       "      <td>0.931429</td>\n",
       "      <td>0.920000</td>\n",
       "      <td>0.862857</td>\n",
       "      <td>0.904000</td>\n",
       "      <td>0.862857</td>\n",
       "      <td>0.862857</td>\n",
       "    </tr>\n",
       "  </tbody>\n",
       "</table>\n",
       "<p>8 rows × 40 columns</p>\n",
       "</div>"
      ],
      "text/plain": [
       "             energy         sugar           fat          chol         fiber  \\\n",
       "count  46617.000000  46617.000000  46617.000000  46617.000000  46617.000000   \n",
       "mean     241.143371      9.248111     11.557854     33.609885      2.591250   \n",
       "std      160.545081     17.197685     16.542250     68.505255      4.731361   \n",
       "min        0.000000      0.000000      0.000000      0.000000      0.000000   \n",
       "25%      143.250000      0.401000      2.597032      1.188356      0.033735   \n",
       "50%      218.149746      2.911517      6.662692     13.487179      1.455128   \n",
       "75%      294.811036      7.879937     13.353506     41.000000      2.927273   \n",
       "max      902.000000     99.190000    100.000000    649.480000     53.100000   \n",
       "\n",
       "            protein  Tract.Minority...x  Non.Hisp.White.Population  \\\n",
       "count  46617.000000        46617.000000               46617.000000   \n",
       "mean       9.047721           37.575799                2766.694253   \n",
       "std        6.958441           24.898264                1912.716056   \n",
       "min        0.000000            0.000000                   0.000000   \n",
       "25%        3.960000           17.980000                1387.000000   \n",
       "50%        7.968000           31.550000                2494.000000   \n",
       "75%       12.233752           53.230000                3787.000000   \n",
       "max       39.660000          100.000000               28555.000000   \n",
       "\n",
       "       Median.House.Age..Years.  Owner.Occupied.Units.x      ...       \\\n",
       "count              46617.000000            46617.000000      ...        \n",
       "mean                  40.254328              912.974602      ...        \n",
       "std                   20.742201              701.720554      ...        \n",
       "min                    0.000000                0.000000      ...        \n",
       "25%                   24.000000              369.000000      ...        \n",
       "50%                   39.000000              816.000000      ...        \n",
       "75%                   57.000000             1302.000000      ...        \n",
       "max                   71.000000             8526.000000      ...        \n",
       "\n",
       "                X15           X16           X17           X18           X19  \\\n",
       "count  46617.000000  46617.000000  46617.000000  46617.000000  46617.000000   \n",
       "mean       0.030470      0.035006      0.031413      0.034773      0.025284   \n",
       "std        0.080043      0.088264      0.087045      0.093017      0.081738   \n",
       "min        0.000000      0.000000      0.000000      0.000000      0.000000   \n",
       "25%        0.000000      0.000000      0.000000      0.000000      0.000000   \n",
       "50%        0.000000      0.000000      0.000000      0.000000      0.000000   \n",
       "75%        0.000000      0.000000      0.000000      0.000000      0.000000   \n",
       "max        0.893333      0.904000      0.912727      0.893333      0.931429   \n",
       "\n",
       "                X20           X21           X22           X23           X24  \n",
       "count  46617.000000  46617.000000  46617.000000  46617.000000  46617.000000  \n",
       "mean       0.033810      0.037713      0.044519      0.029614      0.022739  \n",
       "std        0.092399      0.095307      0.113268      0.079520      0.072156  \n",
       "min        0.000000      0.000000      0.000000      0.000000      0.000000  \n",
       "25%        0.000000      0.000000      0.000000      0.000000      0.000000  \n",
       "50%        0.000000      0.000000      0.000000      0.000000      0.000000  \n",
       "75%        0.000000      0.000000      0.000000      0.000000      0.000000  \n",
       "max        0.920000      0.862857      0.904000      0.862857      0.862857  \n",
       "\n",
       "[8 rows x 40 columns]"
      ]
     },
     "execution_count": 4,
     "metadata": {},
     "output_type": "execute_result"
    }
   ],
   "source": [
    "X = tweets.loc[:,[u'energy', u'sugar', u'fat', u'chol', u'fiber', u'protein',\n",
    "                  u'Tract.Minority...x', u'Non.Hisp.White.Population',\n",
    "                  u'Median.House.Age..Years.', u'Owner.Occupied.Units.x',\n",
    "                  u'Tract.Population.x',\n",
    "                  u'X..of.House..holds', u'X2016.Est..Tract.Median.Family.Income.x',\n",
    "                  u'X..Below.Poverty.Line', u'Number.of.Families',\n",
    "#                   u'lahunvhalfshare', \n",
    "#                   u'lakids1share', u'lakids10share', u'laseniors1share', \n",
    "#                   u'laseniors10share', u'PCTGQTRS', u'Urban', \n",
    "                  u'X0', u'X1', u'X2', u'X3', u'X4', u'X5', u'X6', u'X7',u'X8', \n",
    "                  u'X9', u'X10', u'X11', u'X12', u'X13', u'X14', u'X15', u'X16',\n",
    "                  u'X17', u'X18', u'X19', u'X20', u'X21', u'X22', u'X23', u'X24']]\n",
    "X.describe()"
   ]
  },
  {
   "cell_type": "code",
   "execution_count": 5,
   "metadata": {
    "collapsed": false
   },
   "outputs": [
    {
     "data": {
      "text/plain": [
       "count    46617.000000\n",
       "mean         0.076882\n",
       "std          0.266407\n",
       "min          0.000000\n",
       "25%          0.000000\n",
       "50%          0.000000\n",
       "75%          0.000000\n",
       "max          1.000000\n",
       "Name: LILATracts_1And10, dtype: float64"
      ]
     },
     "execution_count": 5,
     "metadata": {},
     "output_type": "execute_result"
    }
   ],
   "source": [
    "y = tweets.loc[:,u'LILATracts_1And10']\n",
    "y.describe()"
   ]
  },
  {
   "cell_type": "code",
   "execution_count": 6,
   "metadata": {
    "collapsed": false
   },
   "outputs": [
    {
     "data": {
      "text/plain": [
       "array([[-1.37331564, -0.53775899, -0.65879617, ..., -0.39304596,\n",
       "         3.95898868, -0.31513806],\n",
       "       [-0.17624862, -0.52363192,  0.0948177 , ...,  0.37210962,\n",
       "        -0.37240933, -0.31513806],\n",
       "       [ 0.80710964,  0.27769977,  0.00684931, ..., -0.39304596,\n",
       "        -0.37240933, -0.31513806],\n",
       "       ..., \n",
       "       [ 1.70736822,  1.38839296,  0.94559771, ..., -0.39304596,\n",
       "        -0.37240933,  1.0373293 ],\n",
       "       [ 0.1016234 ,  0.0354711 ,  0.08773463, ..., -0.39304596,\n",
       "        -0.37240933, -0.31513806],\n",
       "       [-0.48532502, -0.45875366, -0.29162452, ...,  0.52514074,\n",
       "        -0.37240933, -0.31513806]])"
      ]
     },
     "execution_count": 6,
     "metadata": {},
     "output_type": "execute_result"
    }
   ],
   "source": [
    "from sklearn import preprocessing\n",
    "X_scaled = preprocessing.scale(X)\n",
    "X_scaled"
   ]
  },
  {
   "cell_type": "code",
   "execution_count": 7,
   "metadata": {
    "collapsed": false
   },
   "outputs": [],
   "source": [
    "from sklearn.model_selection import train_test_split, GridSearchCV\n",
    "\n",
    "X_train, X_test, y_train, y_test = train_test_split(X_scaled, y, \n",
    "                                                    test_size=.2,\n",
    "                                                    random_state=0)"
   ]
  },
  {
   "cell_type": "code",
   "execution_count": 8,
   "metadata": {
    "collapsed": false
   },
   "outputs": [
    {
     "name": "stdout",
     "output_type": "stream",
     "text": [
      "Fitting 5 folds for each of 24 candidates, totalling 120 fits\n"
     ]
    },
    {
     "name": "stderr",
     "output_type": "stream",
     "text": [
      "[Parallel(n_jobs=4)]: Done  42 tasks      | elapsed:   15.3s\n",
      "[Parallel(n_jobs=4)]: Done 120 out of 120 | elapsed:   55.5s finished\n"
     ]
    },
    {
     "data": {
      "text/plain": [
       "GridSearchCV(cv=5, error_score='raise',\n",
       "       estimator=LogisticRegression(C=1.0, class_weight=None, dual=False, fit_intercept=True,\n",
       "          intercept_scaling=1, max_iter=100, multi_class='ovr', n_jobs=1,\n",
       "          penalty='l2', random_state=None, solver='liblinear', tol=0.0001,\n",
       "          verbose=0, warm_start=False),\n",
       "       fit_params={}, iid=True, n_jobs=4,\n",
       "       param_grid=[{'C': [0.1, 1, 10, 100], 'class_weight': ['None', 'balanced'], 'solver': ['newton-cg', 'lbfgs']}, {'penalty': ['l1', 'l2'], 'C': [0.1, 1, 10, 100], 'solver': ['liblinear']}],\n",
       "       pre_dispatch='2*n_jobs', refit=True, return_train_score=True,\n",
       "       scoring='roc_auc', verbose=1)"
      ]
     },
     "execution_count": 8,
     "metadata": {},
     "output_type": "execute_result"
    }
   ],
   "source": [
    "## logisticRegression classifier\n",
    "from sklearn.linear_model import LogisticRegression\n",
    "# # from scipy.stats import randint as sp_rint\n",
    "lr_parameters = [{'solver':['newton-cg','lbfgs'], \n",
    "                  'class_weight':['None','balanced'],\n",
    "                  'C':[0.1,1,10,100]}, \n",
    "                 {'solver':['liblinear'],\n",
    "#                   'class_weight':['None','balanced'],\n",
    "                  'penalty':['l1','l2'],\n",
    "                  'C':[0.1,1,10,100]}]\n",
    "\n",
    "clf_lr = GridSearchCV(LogisticRegression(),\n",
    "                      cv=5,\n",
    "                      param_grid=lr_parameters,\n",
    "                      scoring='roc_auc',\n",
    "                      verbose=1,\n",
    "                      n_jobs=4)\n",
    "clf_lr.fit(X_train, y_train)"
   ]
  },
  {
   "cell_type": "code",
   "execution_count": 9,
   "metadata": {
    "collapsed": false
   },
   "outputs": [
    {
     "name": "stdout",
     "output_type": "stream",
     "text": [
      "Best Parameters: {'C': 0.1, 'solver': 'lbfgs', 'class_weight': 'balanced'}\n",
      "Training Accuracy: 0.797390949689\n",
      "Testing Accuracy: 0.795838905601\n"
     ]
    },
    {
     "data": {
      "text/plain": [
       "['clf_lr.pkl']"
      ]
     },
     "execution_count": 9,
     "metadata": {},
     "output_type": "execute_result"
    }
   ],
   "source": [
    "from sklearn.externals import joblib\n",
    "\n",
    "print('Best Parameters: ' + str(clf_lr.best_params_))\n",
    "print('Training Accuracy: ' + str(clf_lr.best_score_))\n",
    "print('Testing Accuracy: ' + str(clf_lr.score(X_test, y_test)))\n",
    "\n",
    "joblib.dump(clf_lr, 'clf_lr.pkl') "
   ]
  },
  {
   "cell_type": "code",
   "execution_count": 10,
   "metadata": {
    "collapsed": false
   },
   "outputs": [
    {
     "name": "stdout",
     "output_type": "stream",
     "text": [
      "Fitting 5 folds for each of 48 candidates, totalling 240 fits\n"
     ]
    },
    {
     "name": "stderr",
     "output_type": "stream",
     "text": [
      "/home/shu/anaconda2/lib/python2.7/site-packages/sklearn/ensemble/forest.py:439: UserWarning: Some inputs do not have OOB scores. This probably means too few trees were used to compute any reliable oob estimates.\n",
      "  warn(\"Some inputs do not have OOB scores. \"\n",
      "/home/shu/anaconda2/lib/python2.7/site-packages/sklearn/ensemble/forest.py:439: UserWarning: Some inputs do not have OOB scores. This probably means too few trees were used to compute any reliable oob estimates.\n",
      "  warn(\"Some inputs do not have OOB scores. \"\n",
      "/home/shu/anaconda2/lib/python2.7/site-packages/sklearn/ensemble/forest.py:439: UserWarning: Some inputs do not have OOB scores. This probably means too few trees were used to compute any reliable oob estimates.\n",
      "  warn(\"Some inputs do not have OOB scores. \"\n",
      "/home/shu/anaconda2/lib/python2.7/site-packages/sklearn/ensemble/forest.py:439: UserWarning: Some inputs do not have OOB scores. This probably means too few trees were used to compute any reliable oob estimates.\n",
      "  warn(\"Some inputs do not have OOB scores. \"\n",
      "[Parallel(n_jobs=4)]: Done  42 tasks      | elapsed:   24.6s\n",
      "[Parallel(n_jobs=4)]: Done 192 tasks      | elapsed:  1.2min\n",
      "[Parallel(n_jobs=4)]: Done 240 out of 240 | elapsed:  1.4min finished\n"
     ]
    },
    {
     "data": {
      "text/plain": [
       "GridSearchCV(cv=5, error_score='raise',\n",
       "       estimator=RandomForestClassifier(bootstrap=True, class_weight=None, criterion='gini',\n",
       "            max_depth=None, max_features='auto', max_leaf_nodes=None,\n",
       "            min_impurity_split=1e-07, min_samples_leaf=1,\n",
       "            min_samples_split=2, min_weight_fraction_leaf=0.0,\n",
       "            n_estimators=10, n_jobs=1, oob_score=False, random_state=None,\n",
       "            verbose=0, warm_start=False),\n",
       "       fit_params={}, iid=True, n_jobs=4,\n",
       "       param_grid={'n_estimators': [20, 30], 'max_features': ['auto', 'log2'], 'oob_score': [True, False], 'max_depth': [None, 3, 5], 'class_weight': [None, 'balanced_subsample']},\n",
       "       pre_dispatch='2*n_jobs', refit=True, return_train_score=True,\n",
       "       scoring='roc_auc', verbose=1)"
      ]
     },
     "execution_count": 10,
     "metadata": {},
     "output_type": "execute_result"
    }
   ],
   "source": [
    "## randomForest classifier\n",
    "from sklearn.ensemble import RandomForestClassifier\n",
    "# # from scipy.stats import randint as sp_rint\n",
    "rf_parameters = {'n_estimators':[20,30],\n",
    "                 'max_depth': [None, 3, 5],\n",
    "                 'class_weight':[None, 'balanced_subsample'],\n",
    "                 'oob_score':[True, False],\n",
    "                 'max_features':['auto', 'log2']}\n",
    "\n",
    "clf_rf = GridSearchCV(RandomForestClassifier(),\n",
    "                      cv=5,\n",
    "                      param_grid=rf_parameters,\n",
    "                      scoring='roc_auc',\n",
    "                      verbose=1,\n",
    "                      n_jobs=4)\n",
    "clf_rf.fit(X_train, y_train)"
   ]
  },
  {
   "cell_type": "code",
   "execution_count": 11,
   "metadata": {
    "collapsed": false
   },
   "outputs": [
    {
     "name": "stdout",
     "output_type": "stream",
     "text": [
      "Best Parameters: {'max_features': 'auto', 'n_estimators': 30, 'oob_score': True, 'max_depth': None, 'class_weight': None}\n",
      "Training Accuracy: 0.957972807201\n",
      "Testing Accuracy: 0.966923027637\n"
     ]
    },
    {
     "data": {
      "text/plain": [
       "['clf_rf.pkl']"
      ]
     },
     "execution_count": 11,
     "metadata": {},
     "output_type": "execute_result"
    }
   ],
   "source": [
    "print('Best Parameters: ' + str(clf_rf.best_params_))\n",
    "print('Training Accuracy: ' + str(clf_rf.best_score_))\n",
    "print('Testing Accuracy: ' + str(clf_rf.score(X_test, y_test)))\n",
    "\n",
    "joblib.dump(clf_rf, 'clf_rf.pkl') "
   ]
  },
  {
   "cell_type": "code",
   "execution_count": 12,
   "metadata": {
    "collapsed": false
   },
   "outputs": [
    {
     "name": "stdout",
     "output_type": "stream",
     "text": [
      "Fitting 5 folds for each of 6 candidates, totalling 30 fits\n"
     ]
    },
    {
     "name": "stderr",
     "output_type": "stream",
     "text": [
      "[Parallel(n_jobs=4)]: Done  30 out of  30 | elapsed:  1.7min finished\n"
     ]
    },
    {
     "data": {
      "text/plain": [
       "GridSearchCV(cv=5, error_score='raise',\n",
       "       estimator=XGBClassifier(base_score=0.5, colsample_bylevel=1, colsample_bytree=1,\n",
       "       gamma=0, learning_rate=0.1, max_delta_step=0, max_depth=3,\n",
       "       min_child_weight=1, missing=None, n_estimators=100, nthread=-1,\n",
       "       objective='binary:logistic', reg_alpha=0, reg_lambda=1,\n",
       "       scale_pos_weight=1, seed=0, silent=True, subsample=1),\n",
       "       fit_params={}, iid=True, n_jobs=4,\n",
       "       param_grid=[{'objective': ['binary:logistic'], 'reg_lambda': [0.1], 'reg_alpha': [0.1], 'max_depth': [3, 5, 7], 'gamma': [0, 0.1]}],\n",
       "       pre_dispatch='2*n_jobs', refit=True, return_train_score=True,\n",
       "       scoring='roc_auc', verbose=1)"
      ]
     },
     "execution_count": 12,
     "metadata": {},
     "output_type": "execute_result"
    }
   ],
   "source": [
    "## XGBoost Classifer\n",
    "import sys\n",
    "sys.path.append('/home/shu/xgboost/python-package/')\n",
    "# import xgboost as xgb\n",
    "from xgboost.sklearn import XGBClassifier\n",
    "# from sklearn import cross_validation, metrics   #Additional scklearn functions\n",
    "# from sklearn.model_selection import GridSearchCV   #Perforing grid search\n",
    "\n",
    "xgb_parameters = [{'objective':['binary:logistic'],\n",
    "                   'gamma':[0,0.1],\n",
    "                   'max_depth':[3,5,7],\n",
    "                   'reg_alpha':[0.1],\n",
    "                   'reg_lambda':[0.1]}]\n",
    "\n",
    "clf_xgb = GridSearchCV(XGBClassifier(),\n",
    "                       cv=5,\n",
    "                       param_grid=xgb_parameters,\n",
    "                       scoring='roc_auc',\n",
    "                       verbose=1,\n",
    "                       n_jobs=4)\n",
    "clf_xgb.fit(X_train, y_train)"
   ]
  },
  {
   "cell_type": "code",
   "execution_count": 13,
   "metadata": {
    "collapsed": false
   },
   "outputs": [
    {
     "name": "stdout",
     "output_type": "stream",
     "text": [
      "Best Parameters: {'objective': 'binary:logistic', 'reg_lambda': 0.1, 'reg_alpha': 0.1, 'gamma': 0, 'max_depth': 7}\n",
      "Training Accuracy: 0.958617268694\n",
      "Testing Accuracy: 0.9613999652\n"
     ]
    },
    {
     "data": {
      "text/plain": [
       "['clf_xgb.pkl']"
      ]
     },
     "execution_count": 13,
     "metadata": {},
     "output_type": "execute_result"
    }
   ],
   "source": [
    "print('Best Parameters: ' + str(clf_xgb.best_params_))\n",
    "print('Training Accuracy: ' + str(clf_xgb.best_score_))\n",
    "print('Testing Accuracy: ' + str(clf_xgb.score(X_test, y_test)))\n",
    "\n",
    "joblib.dump(clf_xgb, 'clf_xgb.pkl') "
   ]
  },
  {
   "cell_type": "code",
   "execution_count": 14,
   "metadata": {
    "collapsed": false
   },
   "outputs": [
    {
     "name": "stdout",
     "output_type": "stream",
     "text": [
      "Fitting 3 folds for each of 1 candidates, totalling 3 fits\n",
      "[CV] kernel=linear ...................................................\n",
      "[CV] kernel=linear ...................................................\n",
      "[CV] kernel=linear ...................................................\n",
      "[CV] .................................... kernel=linear, total= 2.7min\n",
      "[CV] .................................... kernel=linear, total= 2.8min\n",
      "[CV] .................................... kernel=linear, total= 3.0min\n"
     ]
    },
    {
     "name": "stderr",
     "output_type": "stream",
     "text": [
      "[Parallel(n_jobs=4)]: Done   3 out of   3 | elapsed:  3.1min finished\n"
     ]
    },
    {
     "data": {
      "text/plain": [
       "GridSearchCV(cv=3, error_score='raise',\n",
       "       estimator=SVC(C=1.0, cache_size=200, class_weight=None, coef0=0.0,\n",
       "  decision_function_shape=None, degree=3, gamma='auto', kernel='rbf',\n",
       "  max_iter=-1, probability=True, random_state=None, shrinking=True,\n",
       "  tol=0.001, verbose=False),\n",
       "       fit_params={}, iid=True, n_jobs=4,\n",
       "       param_grid=[{'kernel': ['linear']}], pre_dispatch='2*n_jobs',\n",
       "       refit=True, return_train_score=True, scoring='roc_auc', verbose=2)"
      ]
     },
     "execution_count": 14,
     "metadata": {},
     "output_type": "execute_result"
    }
   ],
   "source": [
    "## Support Vector Machine Classifer\n",
    "from sklearn.svm import SVC\n",
    "\n",
    "svc_parameters = [{#'C':[0.1,1,10],\n",
    "                   'kernel':['linear']}]\n",
    "\n",
    "clf_svc = GridSearchCV(SVC(probability=True),\n",
    "                       cv=3,\n",
    "                       param_grid=svc_parameters,\n",
    "                       scoring='roc_auc',\n",
    "                       verbose=2,\n",
    "                       n_jobs=4)\n",
    "\n",
    "clf_svc.fit(X_train, y_train)"
   ]
  },
  {
   "cell_type": "code",
   "execution_count": 15,
   "metadata": {
    "collapsed": false
   },
   "outputs": [
    {
     "name": "stdout",
     "output_type": "stream",
     "text": [
      "Best Parameters: {'kernel': 'linear'}\n",
      "Training Accuracy: 0.537801048193\n",
      "Testing Accuracy: 0.535733601514\n"
     ]
    }
   ],
   "source": [
    "print('Best Parameters: ' + str(clf_svc.best_params_))\n",
    "print('Training Accuracy: ' + str(clf_svc.best_score_))\n",
    "print('Testing Accuracy: ' + str(clf_svc.score(X_test, y_test)))"
   ]
  },
  {
   "cell_type": "code",
   "execution_count": 25,
   "metadata": {
    "collapsed": false
   },
   "outputs": [
    {
     "data": {
      "text/plain": [
       "VotingClassifier(estimators=[('lr', LogisticRegression(C=0.1, class_weight='balanced', dual=False,\n",
       "          fit_intercept=True, intercept_scaling=1, max_iter=100,\n",
       "          multi_class='ovr', n_jobs=1, penalty='l2', random_state=None,\n",
       "          solver='lbfgs', tol=0.0001, verbose=0, warm_start=False)), ('rf', Rando...stic', reg_alpha=0.1, reg_lambda=0.1,\n",
       "       scale_pos_weight=1, seed=0, silent=True, subsample=1))],\n",
       "         n_jobs=1, voting='soft', weights=[1, 3, 2])"
      ]
     },
     "execution_count": 25,
     "metadata": {},
     "output_type": "execute_result"
    }
   ],
   "source": [
    "from sklearn.ensemble import VotingClassifier\n",
    "\n",
    "clf_ens = VotingClassifier(estimators=[('lr', clf_lr.best_estimator_),\n",
    "                                       ('rf', clf_rf.best_estimator_), \n",
    "                                       ('xgb', clf_xgb.best_estimator_)],\n",
    "                           voting='soft', weights=[1,3,2])\n",
    "clf_ens.fit(X_train, y_train)"
   ]
  },
  {
   "cell_type": "code",
   "execution_count": 28,
   "metadata": {
    "collapsed": false
   },
   "outputs": [],
   "source": [
    "from sklearn.metrics import roc_curve, auc\n",
    "import matplotlib.pyplot as plt\n",
    "%matplotlib inline\n",
    "\n",
    "def roc_plot(models, labels, X_test, y_test, colors=None, savefig=False):\n",
    "    plt.figure(figsize=(8,8))\n",
    "    lw = 2\n",
    "    if colors is None:\n",
    "        colors = ['b','g','r','c','m','y','k']\n",
    "    for model, label, color in zip(models, labels, colors):\n",
    "        fpr, tpr, _ = roc_curve(y_test, model.predict_proba(X_test)[:, 1])\n",
    "        roc_auc = auc(fpr, tpr)\n",
    "        plt.plot(fpr, tpr, color=color,lw=lw,\n",
    "                 label='%s (AUC = %0.4f)' %(label,roc_auc))\n",
    "    plt.plot([0, 1], [0, 1], color='navy', lw=lw, linestyle='--')\n",
    "    plt.xlim([0.0, 1.0])\n",
    "    plt.ylim([0.0, 1.05])\n",
    "    plt.xlabel('False Positive Rate')\n",
    "    plt.ylabel('True Positive Rate')\n",
    "    plt.title('Receiver operating characteristic')\n",
    "    plt.legend(loc=\"lower right\")\n",
    "    if savefig:\n",
    "        plt.savefig('ROC_curve.png')\n",
    "    plt.show()"
   ]
  },
  {
   "cell_type": "code",
   "execution_count": 35,
   "metadata": {
    "collapsed": false
   },
   "outputs": [
    {
     "data": {
      "image/png": "[encoded data removed]",
      "text/plain": [
       "<matplotlib.figure.Figure at 0x7f0a1c9b0410>"
      ]
     },
     "metadata": {},
     "output_type": "display_data"
    }
   ],
   "source": [
    "roc_plot([clf_lr, clf_rf, clf_xgb, clf_svc, clf_ens], \n",
    "         ['Logistic Reg.', 'RandomForest', 'XGBoost', 'SVC', 'Ensemble'],\n",
    "         X_test, y_test)"
   ]
  },
  {
   "cell_type": "code",
   "execution_count": 27,
   "metadata": {
    "collapsed": false
   },
   "outputs": [
    {
     "name": "stdout",
     "output_type": "stream",
     "text": [
      "Logistic Reg.:  [ 0.81949774  0.29354414]\n",
      "Random Forest:  [ 0.97811218  0.65217391]\n",
      "XGBoost:  [ 0.97617691  0.62068966]\n",
      "SVC:  [ 0.95856138  0.        ]\n",
      "Ensemble:  [ 0.9795335   0.69031142]\n"
     ]
    },
    {
     "name": "stderr",
     "output_type": "stream",
     "text": [
      "/home/shu/anaconda2/lib/python2.7/site-packages/sklearn/metrics/classification.py:1113: UndefinedMetricWarning: F-score is ill-defined and being set to 0.0 in labels with no predicted samples.\n",
      "  'precision', 'predicted', average, warn_for)\n"
     ]
    }
   ],
   "source": [
    "from sklearn.metrics import f1_score\n",
    "\n",
    "print 'Logistic Reg.: ', f1_score(y_test, clf_lr.predict(X_test), average=None)\n",
    "print 'Random Forest: ', f1_score(y_test, clf_rf.predict(X_test), average=None)\n",
    "print 'XGBoost: ', f1_score(y_test, clf_xgb.predict(X_test), average=None)\n",
    "print 'SVC: ', f1_score(y_test, clf_svc.predict(X_test), average=None)\n",
    "print 'Ensemble: ', f1_score(y_test, clf_ens.predict(X_test), average=None)"
   ]
  },
  {
   "cell_type": "code",
   "execution_count": null,
   "metadata": {
    "collapsed": true
   },
   "outputs": [],
   "source": []
  }
 ],
 "metadata": {
  "kernelspec": {
   "display_name": "Python [Root]",
   "language": "python",
   "name": "Python [Root]"
  },
  "language_info": {
   "codemirror_mode": {
    "name": "ipython",
    "version": 2
   },
   "file_extension": ".py",
   "mimetype": "text/x-python",
   "name": "python",
   "nbconvert_exporter": "python",
   "pygments_lexer": "ipython2",
   "version": "2.7.12"
  }
 },
 "nbformat": 4,
 "nbformat_minor": 0
}
