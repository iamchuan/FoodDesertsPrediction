{
 "cells": [
  {
   "cell_type": "code",
   "execution_count": 9,
   "metadata": {
    "collapsed": false
   },
   "outputs": [],
   "source": [
    "from selenium import webdriver\n",
    "from selenium.common.exceptions import NoSuchElementException\n",
    "\n",
    "driver = webdriver.Chrome() \n",
    "\n",
    "driver.implicitly_wait(10)\n",
    "driver.get('https://www.ffiec.gov/census/Default.aspx')\n",
    "driver.find_element_by_xpath('//*[@id=\"MsaImgButton\"]').click()"
   ]
  },
  {
   "cell_type": "code",
   "execution_count": null,
   "metadata": {
    "collapsed": true
   },
   "outputs": [],
   "source": [
    "from selenium.webdriver.common.keys import Keys\n",
    "import pandas as pd\n",
    "import time\n",
    "import sqlite3\n",
    "con = sqlite3.connect(\"./FFIECTable.db\")\n",
    "\n",
    "table_dict = dict()\n",
    "\n",
    "MSAlen = len(driver.find_elements_by_xpath('//*[@id=\"MSAListBox\"]/option'))\n",
    "\n",
    "for i in range(266, MSAlen):\n",
    "    print 'MSA {0}'.format(i + 1)\n",
    "    driver.find_element_by_xpath('//*[@id=\"MSAListBox\"]/option[{0}]'.format(i + 1)).click()\n",
    "    driver.find_element_by_xpath('//*[@id=\"MSACensusDemographicImgButton\"]').click()\n",
    "    back = 1\n",
    "    for text in ['Demographic', 'Income', 'Population', 'Housing']:\n",
    "        print '\\tDownloading table:', text\n",
    "        page = 1\n",
    "        if not text == 'Demographic':\n",
    "            driver.find_element_by_link_text(text).click()\n",
    "            back += 1\n",
    "        while True:\n",
    "            print '\\t\\tPage number {0}'.format(page)\n",
    "            table = driver.find_element_by_xpath('//*[@id=\"aspnetForm\"]')\n",
    "            df = pd.read_html(table.get_attribute('innerHTML'), header=0)[0]\n",
    "            df.to_sql(text, con, if_exists='append')\n",
    "            try:\n",
    "                table_dict[text] = table_dict[text].append(df, ignore_index=True)\n",
    "            except KeyError, TypeError:\n",
    "                table_dict[text] = df\n",
    "            try:\n",
    "                driver.find_element_by_link_text('{0}'.format(page + 1)).click()\n",
    "                page += 1\n",
    "                back += 1\n",
    "            except NoSuchElementException:\n",
    "                break\n",
    "            time.sleep(1)\n",
    "            \n",
    "    driver.execute_script('window.history.go(-{0})'.format(back))"
   ]
  },
  {
   "cell_type": "code",
   "execution_count": 6,
   "metadata": {
    "collapsed": false
   },
   "outputs": [],
   "source": [
    "import sqlite3\n",
    "import pandas as pd\n",
    "\n",
    "con = sqlite3.connect(\"./FFIECTable.db\")"
   ]
  },
  {
   "cell_type": "code",
   "execution_count": null,
   "metadata": {
    "collapsed": true
   },
   "outputs": [],
   "source": [
    "housing = pd.read_sql_query('SELECT * FROM Housing', con)\n",
    "population = pd.read_sql_query('SELECT * FROM Population', con)\n",
    "demographic = pd.read_sql_query('SELECT * FROM Demographic', con)\n",
    "income = pd.read_sql_query('SELECT * FROM Income', con)"
   ]
  },
  {
   "cell_type": "code",
   "execution_count": null,
   "metadata": {
    "collapsed": false
   },
   "outputs": [],
   "source": [
    "housing.to_csv('./housing.csv', index=False)\n",
    "population.to_csv('./population.csv', index=False)\n",
    "demographic.to_csv('./demographic.csv', index=False)\n",
    "income.to_csv('./income.csv', index=False)"
   ]
  },
  {
   "cell_type": "code",
   "execution_count": null,
   "metadata": {
    "collapsed": false
   },
   "outputs": [],
   "source": [
    "housing.to_pickle('./housing.pkl')\n",
    "population.to_pickle('./population.pkl')\n",
    "demographic.to_pickle('./demographic.pkl')\n",
    "income.to_pickle('./income.pkl')"
   ]
  },
  {
   "cell_type": "code",
   "execution_count": null,
   "metadata": {
    "collapsed": true
   },
   "outputs": [],
   "source": [
    "con.close()"
   ]
  }
 ],
 "metadata": {
  "anaconda-cloud": {},
  "kernelspec": {
   "display_name": "Python [default]",
   "language": "python",
   "name": "python2"
  },
  "language_info": {
   "codemirror_mode": {
    "name": "ipython",
    "version": 2
   },
   "file_extension": ".py",
   "mimetype": "text/x-python",
   "name": "python",
   "nbconvert_exporter": "python",
   "pygments_lexer": "ipython2",
   "version": "2.7.12"
  }
 },
 "nbformat": 4,
 "nbformat_minor": 1
}
