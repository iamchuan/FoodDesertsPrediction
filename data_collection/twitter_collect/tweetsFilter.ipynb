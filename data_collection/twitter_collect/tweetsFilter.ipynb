{
 "cells": [
  {
   "cell_type": "markdown",
   "metadata": {},
   "source": [
    "Filter out tweets without geolation info"
   ]
  },
  {
   "cell_type": "code",
   "execution_count": null,
   "metadata": {
    "collapsed": false
   },
   "outputs": [],
   "source": [
    "import pandas as pd\n",
    "import sqlite3\n",
    "\n",
    "def get_geo_tweets(dbPath):\n",
    "    con = sqlite3.connect(dbPath)\n",
    "    df = pd.read_sql_query('SELECT * FROM tweetTable WHERE geo != \"None\"', con)\n",
    "    import json\n",
    "    get_coordinate = lambda x: json.loads(x.replace(\"'\", \"\\\"\").replace('u', ''))[u'coordinates']\n",
    "    coord = pd.DataFrame(df.geo.map(get_coordinate).tolist(), columns=['lat', 'lon'])\n",
    "    con.close()\n",
    "    print 'table size: ', df.size\n",
    "    tbl = pd.concat([df, coord], axis=1)\n",
    "    tbl.drop('geo', axis=1, inplace=True)\n",
    "    return tbl"
   ]
  },
  {
   "cell_type": "markdown",
   "metadata": {},
   "source": [
    "Drop duplicates"
   ]
  },
  {
   "cell_type": "code",
   "execution_count": null,
   "metadata": {
    "collapsed": false
   },
   "outputs": [],
   "source": [
    "tb1 = get_geo_tweets('./tweets.db').drop_duplicates()\n",
    "tb1.shape"
   ]
  },
  {
   "cell_type": "code",
   "execution_count": null,
   "metadata": {
    "collapsed": true
   },
   "outputs": [],
   "source": [
    "tb1.drop('place', axis=1).to_pickle('./tweets.pkl')\n",
    "tb1.drop('place', axis=1).to_csv('./tweets.csv', index=False)"
   ]
  }
 ],
 "metadata": {
  "anaconda-cloud": {},
  "kernelspec": {
   "display_name": "Python [default]",
   "language": "python",
   "name": "python2"
  },
  "language_info": {
   "codemirror_mode": {
    "name": "ipython",
    "version": 2
   },
   "file_extension": ".py",
   "mimetype": "text/x-python",
   "name": "python",
   "nbconvert_exporter": "python",
   "pygments_lexer": "ipython2",
   "version": "2.7.12"
  }
 },
 "nbformat": 4,
 "nbformat_minor": 2
}
