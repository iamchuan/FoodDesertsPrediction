{
 "cells": [
  {
   "cell_type": "code",
   "execution_count": null,
   "metadata": {
    "collapsed": false
   },
   "outputs": [],
   "source": [
    "import requests\n",
    "from bs4 import BeautifulSoup\n",
    "\n",
    "## get webpage\n",
    "url = 'http://www.enchantedlearning.com/wordlist/food.shtml'\n",
    "r = requests.get(url)\n",
    "soup = BeautifulSoup(r.text, 'html.parser')\n",
    "\n",
    "## parse food word vocabulary tables\n",
    "food_list = list()\n",
    "for word_table in soup.find(\"p\").find_all(\"table\")[:25]:\n",
    "    food_list.extend(filter(lambda x: len(x), \n",
    "                            [x.strip() for x in word_table.strings]))"
   ]
  },
  {
   "cell_type": "code",
   "execution_count": null,
   "metadata": {
    "collapsed": false
   },
   "outputs": [],
   "source": [
    "import csv\n",
    "\n",
    "## get word list from SR28\n",
    "food_set = set()\n",
    "with open('ABBREV.csv', 'rb') as csvfile:\n",
    "    abbrev = csv.reader(csvfile, delimiter=',', quotechar='\"')\n",
    "    ## skip the header\n",
    "    abbrev.next()\n",
    "    ## get word list from the second column\n",
    "    for row in abbrev:\n",
    "        food_set = food_set.union(map(lambda x: x.strip().lower(), \n",
    "                                      row[1].split(',')))"
   ]
  },
  {
   "cell_type": "code",
   "execution_count": null,
   "metadata": {
    "collapsed": false
   },
   "outputs": [],
   "source": [
    "## find the intersection\n",
    "food_word = sorted(list(food_set.intersection(food_list)))\n",
    "food_word_diff = sorted(list(food_set.difference(food_list)))"
   ]
  },
  {
   "cell_type": "code",
   "execution_count": null,
   "metadata": {
    "collapsed": false
   },
   "outputs": [],
   "source": [
    "## write to file\n",
    "\n",
    "with open('foodWord.txt', 'wb') as f:\n",
    "    for word in food_word:\n",
    "        f.write(word + '\\n')\n",
    "        \n",
    "with open('foodWordDiff.txt', 'wb') as f:\n",
    "    for word in food_word_diff:\n",
    "        f.write(word + '\\n')"
   ]
  },
  {
   "cell_type": "code",
   "execution_count": null,
   "metadata": {
    "collapsed": false
   },
   "outputs": [],
   "source": [
    "import pandas as pd\n",
    "abbrev = pd.read_csv('ABBREV.csv')"
   ]
  },
  {
   "cell_type": "code",
   "execution_count": null,
   "metadata": {
    "collapsed": true
   },
   "outputs": [],
   "source": [
    "nutrition = abbrev.loc[:, ]"
   ]
  },
  {
   "cell_type": "code",
   "execution_count": null,
   "metadata": {
    "collapsed": false
   },
   "outputs": [],
   "source": [
    "abbrev['Shrt_Desc'].map(lambda x: x.split(',')[0])"
   ]
  },
  {
   "cell_type": "code",
   "execution_count": null,
   "metadata": {
    "collapsed": true
   },
   "outputs": [],
   "source": []
  }
 ],
 "metadata": {
  "anaconda-cloud": {},
  "kernelspec": {
   "display_name": "Python [Root]",
   "language": "python",
   "name": "Python [Root]"
  },
  "language_info": {
   "codemirror_mode": {
    "name": "ipython",
    "version": 2
   },
   "file_extension": ".py",
   "mimetype": "text/x-python",
   "name": "python",
   "nbconvert_exporter": "python",
   "pygments_lexer": "ipython2",
   "version": "2.7.12"
  }
 },
 "nbformat": 4,
 "nbformat_minor": 1
}
